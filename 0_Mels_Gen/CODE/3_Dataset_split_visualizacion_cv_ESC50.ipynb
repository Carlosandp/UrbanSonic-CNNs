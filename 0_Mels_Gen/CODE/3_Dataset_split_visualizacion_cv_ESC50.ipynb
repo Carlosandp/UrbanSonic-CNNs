{
 "cells": [
  {
   "cell_type": "markdown",
   "metadata": {},
   "source": [
    "# 📚 Libraries"
   ]
  },
  {
   "cell_type": "code",
   "execution_count": null,
   "metadata": {},
   "outputs": [],
   "source": [
    "import os\n",
    "import random\n",
    "import shutil\n",
    "import matplotlib.pyplot as plt\n",
    "import numpy as np"
   ]
  },
  {
   "cell_type": "markdown",
   "metadata": {},
   "source": [
    "# ⚙️ Parameters"
   ]
  },
  {
   "cell_type": "code",
   "execution_count": null,
   "metadata": {},
   "outputs": [],
   "source": [
    "SOURCE_DIR = r\"C:\\Users\\cadur\\Downloads\\Urbansonic\\ESC_50\\0_Mels_Gen\\DATA\\Data_Augmentacion\"\n",
    "DEST_DIR = r\"C:\\Users\\cadur\\Downloads\\Urbansonic\\ESC_50\\0_Mels_Gen\\RESULT\\Split\"\n",
    "TRAIN_RATIO = 0.90"
   ]
  },
  {
   "cell_type": "markdown",
   "metadata": {},
   "source": [
    "# 📁 Output Directories"
   ]
  },
  {
   "cell_type": "code",
   "execution_count": null,
   "metadata": {},
   "outputs": [],
   "source": [
    "train_dir = os.path.join(DEST_DIR, \"train\")\n",
    "test_dir = os.path.join(DEST_DIR, \"test\")\n",
    "os.makedirs(train_dir, exist_ok=True)\n",
    "os.makedirs(test_dir, exist_ok=True)"
   ]
  },
  {
   "cell_type": "markdown",
   "metadata": {},
   "source": [
    "# 🧪 1. Split Data into Training and Testing Sets"
   ]
  },
  {
   "cell_type": "code",
   "execution_count": null,
   "metadata": {},
   "outputs": [],
   "source": [
    "for class_name in os.listdir(SOURCE_DIR):\n",
    "    class_path = os.path.join(SOURCE_DIR, class_name)\n",
    "    if os.path.isdir(class_path):\n",
    "        files = [f for f in os.listdir(class_path) if os.path.isfile(os.path.join(class_path, f))]\n",
    "        random.shuffle(files)\n",
    "\n",
    "        n_total = len(files)\n",
    "        n_train = int(n_total * TRAIN_RATIO)\n",
    "\n",
    "        train_files = files[:n_train]\n",
    "        test_files = files[n_train:]\n",
    "\n",
    "        train_class_dir = os.path.join(train_dir, class_name)\n",
    "        test_class_dir = os.path.join(test_dir, class_name)\n",
    "        os.makedirs(train_class_dir, exist_ok=True)\n",
    "        os.makedirs(test_class_dir, exist_ok=True)\n",
    "\n",
    "        for f in train_files:\n",
    "            shutil.copy2(os.path.join(class_path, f), os.path.join(train_class_dir, f))\n",
    "        for f in test_files:\n",
    "            shutil.copy2(os.path.join(class_path, f), os.path.join(test_class_dir, f))\n",
    "\n",
    "        print(f\"✅ Class '{class_name}': {len(train_files)} training files, {len(test_files)} testing files.\")"
   ]
  },
  {
   "cell_type": "markdown",
   "metadata": {},
   "source": [
    "# 📊 2. Plot Class Distribution (Generic Function)"
   ]
  },
  {
   "cell_type": "code",
   "execution_count": null,
   "metadata": {},
   "outputs": [],
   "source": [
    "def plot_class_distribution(data_dir, title):\n",
    "    classes = [d for d in os.listdir(data_dir) if os.path.isdir(os.path.join(data_dir, d))]\n",
    "    counts = []\n",
    "    for cls in classes:\n",
    "        cls_path = os.path.join(data_dir, cls)\n",
    "        n_images = len([f for f in os.listdir(cls_path) if os.path.isfile(os.path.join(cls_path, f))])\n",
    "        counts.append(n_images)\n",
    "\n",
    "    fig, ax = plt.subplots(figsize=(10, 6))\n",
    "    colors = plt.cm.tab10(np.linspace(0, 1, len(classes)))\n",
    "    bars = ax.bar(classes, counts, color=colors)\n",
    "\n",
    "    for bar in bars:\n",
    "        height = bar.get_height()\n",
    "        ax.text(bar.get_x() + bar.get_width()/2, height, f'{int(height)}', ha='center', va='bottom', fontsize=12)\n",
    "\n",
    "    ax.set_xlabel(\"Classes\")\n",
    "    ax.set_ylabel(\"Number of Images\")\n",
    "    ax.set_title(title)\n",
    "    plt.xticks(rotation=45)\n",
    "    plt.tight_layout()\n",
    "    plt.show()"
   ]
  },
  {
   "cell_type": "markdown",
   "metadata": {},
   "source": [
    "# 📈 3. Plot Distribution for Training and Testing"
   ]
  },
  {
   "cell_type": "code",
   "execution_count": null,
   "metadata": {},
   "outputs": [],
   "source": [
    "plot_class_distribution(train_dir, \"🟩 Image Distribution per Class (TRAIN)\")\n",
    "plot_class_distribution(test_dir, \"🟦 Image Distribution per Class (TEST)\")"
   ]
  },
  {
   "cell_type": "markdown",
   "metadata": {},
   "source": [
    "# 🔁 4. Stratified 5-Fold Cross-Validation"
   ]
  },
  {
   "cell_type": "code",
   "execution_count": null,
   "metadata": {},
   "outputs": [],
   "source": [
    "CV_OUTPUT_DIR = r\"C:\\Users\\cadur\\Downloads\\Urbansonic\\ESC_50\\0_Mels_Gen\\RESULT\\CV_5\"\n",
    "N_FOLDS = 5\n",
    "\n",
    "os.makedirs(CV_OUTPUT_DIR, exist_ok=True)\n",
    "\n",
    "class_folders = [d for d in os.listdir(train_dir) if os.path.isdir(os.path.join(train_dir, d))]\n",
    "print(\"🔎 Detected classes:\", class_folders)\n",
    "\n",
    "class_files = {}\n",
    "for cls in class_folders:\n",
    "    cls_path = os.path.join(train_dir, cls)\n",
    "    files = [os.path.join(cls_path, f) for f in os.listdir(cls_path) if f.lower().endswith(('.png', '.jpg', '.jpeg'))]\n",
    "    class_files[cls] = files\n",
    "\n",
    "total_images = sum(len(files) for files in class_files.values())\n",
    "print(f\"🧮 Total images in training set: {total_images}\")\n",
    "\n",
    "fold_assignments = {i: {} for i in range(N_FOLDS)}\n",
    "for cls, files in class_files.items():\n",
    "    files = np.array(files)\n",
    "    indices = np.arange(len(files))\n",
    "    np.random.shuffle(indices)\n",
    "    split_indices = np.array_split(indices, N_FOLDS)\n",
    "    for i in range(N_FOLDS):\n",
    "        fold_assignments[i][cls] = files[split_indices[i]].tolist()\n",
    "\n",
    "for i in range(N_FOLDS):\n",
    "    fold_dir = os.path.join(CV_OUTPUT_DIR, f\"fold_{i+1}\")\n",
    "    os.makedirs(fold_dir, exist_ok=True)\n",
    "    for cls in class_folders:\n",
    "        os.makedirs(os.path.join(fold_dir, cls), exist_ok=True)\n",
    "        for file_path in fold_assignments[i][cls]:\n",
    "            dest_path = os.path.join(fold_dir, cls, os.path.basename(file_path))\n",
    "            shutil.copy2(file_path, dest_path)\n",
    "    fold_count = sum(len(os.listdir(os.path.join(fold_dir, cls))) for cls in class_folders)\n",
    "    print(f\"📁 Fold {i+1} created with {fold_count} images.\")"
   ]
  },
  {
   "cell_type": "markdown",
   "metadata": {},
   "source": [
    "# ✅ Final Verification"
   ]
  },
  {
   "cell_type": "code",
   "execution_count": null,
   "metadata": {},
   "outputs": [],
   "source": [
    "total_fold_images = 0\n",
    "for i in range(N_FOLDS):\n",
    "    fold_dir = os.path.join(CV_OUTPUT_DIR, f\"fold_{i+1}\")\n",
    "    fold_count = sum(len(os.listdir(os.path.join(fold_dir, cls))) for cls in class_folders)\n",
    "    total_fold_images += fold_count\n",
    "\n",
    "print(f\"📊 Total images across all folds: {total_fold_images}\")"
   ]
  }
 ],
 "metadata": {
  "kernelspec": {
   "display_name": "Python 3",
   "language": "python",
   "name": "python3"
  },
  "language_info": {
   "codemirror_mode": {
    "name": "ipython",
    "version": 3
   },
   "file_extension": ".py",
   "mimetype": "text/x-python",
   "name": "python",
   "nbconvert_exporter": "python",
   "pygments_lexer": "ipython3",
   "version": "3.9.7"
  }
 },
 "nbformat": 4,
 "nbformat_minor": 2
}
