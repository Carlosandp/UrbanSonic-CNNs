{
 "cells": [
  {
   "cell_type": "markdown",
   "metadata": {},
   "source": [
    "# Dividir Datos en entrenamiento y testeo"
   ]
  },
  {
   "cell_type": "code",
   "execution_count": 1,
   "metadata": {},
   "outputs": [
    {
     "name": "stdout",
     "output_type": "stream",
     "text": [
      "Clase 'BI': 1166 archivos en entrenamiento y 130 archivos en testeo.\n",
      "Clase 'EM': 720 archivos en entrenamiento y 80 archivos en testeo.\n",
      "Clase 'S': 1080 archivos en entrenamiento y 120 archivos en testeo.\n",
      "Clase 'TM': 1325 archivos en entrenamiento y 148 archivos en testeo.\n",
      "Clase 'VM': 1283 archivos en entrenamiento y 143 archivos en testeo.\n"
     ]
    }
   ],
   "source": [
    "import os\n",
    "import random\n",
    "import shutil\n",
    "\n",
    "# Ruta de origen: contiene subcarpetas con las clases\n",
    "ruta_origen = r\"C:\\Users\\cadur\\Downloads\\Urbansonic\\Urbansound8k\\0_Mels_Gen\\DATA\\Submuestreo\"\n",
    "\n",
    "# Ruta de destino donde se realizará la división\n",
    "ruta_destino = r\"C:\\Users\\cadur\\Downloads\\Urbansonic\\Urbansound8k\\0_Mels_Gen\\Result\\Split\"\n",
    "\n",
    "# Porcentaje de archivos para entrenamiento\n",
    "porcentaje_entrenamiento = 0.90\n",
    "\n",
    "# Crear las carpetas principales \"train\" y \"test\" en la ruta de destino\n",
    "ruta_train = os.path.join(ruta_destino, \"train\")\n",
    "ruta_test = os.path.join(ruta_destino, \"test\")\n",
    "os.makedirs(ruta_train, exist_ok=True)\n",
    "os.makedirs(ruta_test, exist_ok=True)\n",
    "\n",
    "# Recorrer cada subcarpeta (clase) en la ruta de origen\n",
    "for nombre_clase in os.listdir(ruta_origen):\n",
    "    ruta_clase = os.path.join(ruta_origen, nombre_clase)\n",
    "    if os.path.isdir(ruta_clase):\n",
    "        # Listar todos los archivos dentro de la subcarpeta (asumiendo que son imágenes)\n",
    "        archivos = [archivo for archivo in os.listdir(ruta_clase)\n",
    "                    if os.path.isfile(os.path.join(ruta_clase, archivo))]\n",
    "        \n",
    "        # Mezclar aleatoriamente la lista de archivos\n",
    "        random.shuffle(archivos)\n",
    "        \n",
    "        # Calcular cantidad de archivos para entrenamiento y testeo\n",
    "        total_archivos = len(archivos)\n",
    "        num_entrenamiento = int(total_archivos * porcentaje_entrenamiento)\n",
    "        \n",
    "        archivos_entrenamiento = archivos[:num_entrenamiento]\n",
    "        archivos_testeo = archivos[num_entrenamiento:]\n",
    "        \n",
    "        # Crear las subcarpetas correspondientes en \"train\" y \"test\" para esta clase\n",
    "        destino_train_clase = os.path.join(ruta_train, nombre_clase)\n",
    "        destino_test_clase = os.path.join(ruta_test, nombre_clase)\n",
    "        os.makedirs(destino_train_clase, exist_ok=True)\n",
    "        os.makedirs(destino_test_clase, exist_ok=True)\n",
    "        \n",
    "        # Copiar archivos de entrenamiento\n",
    "        for archivo in archivos_entrenamiento:\n",
    "            origen = os.path.join(ruta_clase, archivo)\n",
    "            destino = os.path.join(destino_train_clase, archivo)\n",
    "            shutil.copy2(origen, destino)\n",
    "        \n",
    "        # Copiar archivos de testeo\n",
    "        for archivo in archivos_testeo:\n",
    "            origen = os.path.join(ruta_clase, archivo)\n",
    "            destino = os.path.join(destino_test_clase, archivo)\n",
    "            shutil.copy2(origen, destino)\n",
    "        \n",
    "        print(f\"Clase '{nombre_clase}': {len(archivos_entrenamiento)} archivos en entrenamiento y {len(archivos_testeo)} archivos en testeo.\")"
   ]
  },
  {
   "cell_type": "markdown",
   "metadata": {},
   "source": [
    "# Validacion cruzada"
   ]
  },
  {
   "cell_type": "code",
   "execution_count": 2,
   "metadata": {},
   "outputs": [
    {
     "name": "stdout",
     "output_type": "stream",
     "text": [
      "Clases encontradas: ['BI', 'EM', 'S', 'TM', 'VM']\n",
      "Total de imágenes en 'C:\\Users\\cadur\\Downloads\\Urbansonic\\Urbansound8k\\0_Mels_Gen\\Result\\Split\\train': 5574\n",
      "Fold 1 creado: 1116 imágenes.\n",
      "Fold 2 creado: 1115 imágenes.\n",
      "Fold 3 creado: 1115 imágenes.\n",
      "Fold 4 creado: 1114 imágenes.\n",
      "Fold 5 creado: 1114 imágenes.\n",
      "Total de imágenes sumadas en los 5 folds: 5574\n"
     ]
    }
   ],
   "source": [
    "import os\n",
    "import numpy as np\n",
    "import shutil\n",
    "\n",
    "# --- CONFIGURACIÓN DE RUTAS Y PARÁMETROS ---\n",
    "base_dir = r\"C:\\Users\\cadur\\Downloads\\Urbansonic\\Urbansound8k\\0_Mels_Gen\\Result\\Split\\train\"\n",
    "output_base = r\"C:\\Users\\cadur\\Downloads\\Urbansonic\\Urbansound8k\\0_Mels_Gen\\Result\\CV_5\"\n",
    "n_folds = 5\n",
    "\n",
    "# Crear la carpeta de salida si no existe\n",
    "os.makedirs(output_base, exist_ok=True)\n",
    "\n",
    "# --- OBTENER LAS CLASES E IMÁGENES ---\n",
    "# Listar las subcarpetas (clases) en la carpeta base\n",
    "class_folders = [d for d in os.listdir(base_dir) if os.path.isdir(os.path.join(base_dir, d))]\n",
    "print(\"Clases encontradas:\", class_folders)\n",
    "\n",
    "# Diccionario para almacenar la lista de imágenes de cada clase\n",
    "class_files = {}\n",
    "for cls in class_folders:\n",
    "    cls_path = os.path.join(base_dir, cls)\n",
    "    # Se consideran archivos con extensión .png, .jpg o .jpeg\n",
    "    files = [os.path.join(cls_path, f) for f in os.listdir(cls_path) if f.lower().endswith(('.png', '.jpg', '.jpeg'))]\n",
    "    class_files[cls] = files\n",
    "\n",
    "# Contar imágenes totales (para verificar que suman 1935)\n",
    "total_images = sum(len(files) for files in class_files.values())\n",
    "print(f\"Total de imágenes en '{base_dir}': {total_images}\")\n",
    "\n",
    "# --- DIVIDIR LAS IMÁGENES EN 5 FOLDS (VALIDACIÓN) DE FORMA ESTRATIFICADA ---\n",
    "# Para cada clase se barajan y se dividen las imágenes en n_folds partes disjuntas.\n",
    "fold_assignments = {i: {} for i in range(n_folds)}  # fold_assignments[i][cls] = lista de imágenes de la clase para el fold i\n",
    "\n",
    "for cls, files in class_files.items():\n",
    "    files = np.array(files)\n",
    "    indices = np.arange(len(files))\n",
    "    np.random.shuffle(indices)\n",
    "    # Dividir los índices en n_folds partes (los tamaños pueden diferir en 1 imagen)\n",
    "    split_indices = np.array_split(indices, n_folds)\n",
    "    for i in range(n_folds):\n",
    "        # Convertir a lista de rutas para la clase cls en el fold i\n",
    "        fold_assignments[i][cls] = files[split_indices[i]].tolist()\n",
    "\n",
    "# --- CREAR LA ESTRUCTURA DE SALIDA Y COPIAR LAS IMÁGENES ---\n",
    "for i in range(n_folds):\n",
    "    fold_num = i + 1\n",
    "    fold_dir = os.path.join(output_base, f\"fold_{fold_num}\")\n",
    "    os.makedirs(fold_dir, exist_ok=True)\n",
    "    \n",
    "    # Crear subcarpetas para cada clase dentro del fold\n",
    "    for cls in class_folders:\n",
    "        os.makedirs(os.path.join(fold_dir, cls), exist_ok=True)\n",
    "    \n",
    "    # Copiar las imágenes asignadas a este fold\n",
    "    for cls in class_folders:\n",
    "        for file_path in fold_assignments[i][cls]:\n",
    "            dest_path = os.path.join(fold_dir, cls, os.path.basename(file_path))\n",
    "            shutil.copy2(file_path, dest_path)\n",
    "    \n",
    "    # Contar imágenes copiadas en el fold actual\n",
    "    fold_count = sum(len(os.listdir(os.path.join(fold_dir, cls))) for cls in class_folders)\n",
    "    print(f\"Fold {fold_num} creado: {fold_count} imágenes.\")\n",
    "\n",
    "# Verificar que la suma de imágenes en los 5 folds es igual al total original\n",
    "total_fold_images = 0\n",
    "for i in range(n_folds):\n",
    "    fold_dir = os.path.join(output_base, f\"fold_{i+1}\")\n",
    "    fold_count = sum(len(os.listdir(os.path.join(fold_dir, cls))) for cls in class_folders)\n",
    "    total_fold_images += fold_count\n",
    "print(f\"Total de imágenes sumadas en los 5 folds: {total_fold_images}\")"
   ]
  },
  {
   "cell_type": "code",
   "execution_count": 3,
   "metadata": {},
   "outputs": [
    {
     "data": {
      "image/png": "[encoded data removed]",
      "text/plain": [
       "<Figure size 1000x600 with 1 Axes>"
      ]
     },
     "metadata": {},
     "output_type": "display_data"
    }
   ],
   "source": [
    "import os\n",
    "import matplotlib.pyplot as plt\n",
    "import numpy as np\n",
    "\n",
    "# Ruta de la carpeta de entrenamiento\n",
    "ruta_train = r\"C:\\Users\\cadur\\Downloads\\Urbansonic\\Urbansound8k\\0_Mels_Gen\\Result\\CV_5\\fold_1\"\n",
    "\n",
    "# Obtener la lista de clases (subcarpetas)\n",
    "clases = [folder for folder in os.listdir(ruta_train) \n",
    "          if os.path.isdir(os.path.join(ruta_train, folder))]\n",
    "\n",
    "# Contar el número de imágenes en cada clase\n",
    "conteos = []\n",
    "for clase in clases:\n",
    "    ruta_clase = os.path.join(ruta_train, clase)\n",
    "    num_imagenes = len([f for f in os.listdir(ruta_clase)\n",
    "                        if os.path.isfile(os.path.join(ruta_clase, f))])\n",
    "    conteos.append(num_imagenes)\n",
    "\n",
    "# Configurar el gráfico de barras\n",
    "fig, ax = plt.subplots(figsize=(10, 6))\n",
    "\n",
    "# Asignar un color distinto a cada barra usando una colormap\n",
    "# Se usa 'tab10', que proporciona 10 colores distintos; si tienes más clases, puedes cambiar a 'tab20' u otro cmap.\n",
    "colors = plt.cm.tab10(np.linspace(0, 1, len(clases)))\n",
    "\n",
    "barras = ax.bar(clases, conteos, color=colors)\n",
    "\n",
    "# Agregar el número de imágenes sobre cada barra\n",
    "for barra in barras:\n",
    "    altura = barra.get_height()\n",
    "    ax.text(barra.get_x() + barra.get_width()/2, altura, f'{int(altura)}', \n",
    "            ha='center', va='bottom', fontsize=12)\n",
    "\n",
    "ax.set_xlabel('Clases')\n",
    "ax.set_ylabel('Número de imágenes')\n",
    "ax.set_title('Distribución de imágenes por clase en TRAIN')\n",
    "plt.xticks(rotation=45)  # Rotar etiquetas si es necesario para mayor claridad\n",
    "plt.tight_layout()\n",
    "plt.show()"
   ]
  }
 ],
 "metadata": {
  "kernelspec": {
   "display_name": "Python 3",
   "language": "python",
   "name": "python3"
  },
  "language_info": {
   "codemirror_mode": {
    "name": "ipython",
    "version": 3
   },
   "file_extension": ".py",
   "mimetype": "text/x-python",
   "name": "python",
   "nbconvert_exporter": "python",
   "pygments_lexer": "ipython3",
   "version": "3.9.7"
  }
 },
 "nbformat": 4,
 "nbformat_minor": 2
}
