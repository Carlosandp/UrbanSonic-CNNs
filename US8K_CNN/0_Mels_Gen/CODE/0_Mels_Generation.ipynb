{
  "cells": [
    {
      "cell_type": "markdown",
      "metadata": {},
      "source": [
        "# UrbanSound8K"
      ]
    },
    {
      "cell_type": "code",
      "execution_count": 2,
      "metadata": {},
      "outputs": [
        {
          "name": "stdout",
          "output_type": "stream",
          "text": [
            "Tasa de muestreo del archivo WAV: 44100 Hz\n",
            "Resolución del audio (profundidad en bits): 16 bits\n"
          ]
        }
      ],
      "source": [
        "import soundfile as sf\n",
        "\n",
        "def obtener_info_audio(archivo_wav):\n",
        "    info = sf.info(archivo_wav)\n",
        "    tasa_muestreo = info.samplerate\n",
        "    subtipo = info.subtype\n",
        "\n",
        "    # Extraemos la profundidad en bits a partir del subtipo si contiene 'PCM'\n",
        "    if 'PCM' in subtipo:\n",
        "        try:\n",
        "            bits = int(subtipo.split('_')[1])\n",
        "        except (IndexError, ValueError):\n",
        "            bits = \"No disponible\"\n",
        "    else:\n",
        "        bits = \"No disponible\"\n",
        "    \n",
        "    return tasa_muestreo, bits\n",
        "\n",
        "if __name__ == \"__main__\":\n",
        "    archivo_wav = \"C:/Users/cadur/Downloads/Urbansonic/0_Mels_Gen/DATA/UrbanSound8K/audio/fold1/7383-3-1-0.wav\"  \n",
        "    tasa, bits = obtener_info_audio(archivo_wav)\n",
        "    print(f\"Tasa de muestreo del archivo WAV: {tasa} Hz\")\n",
        "    print(f\"Resolución del audio (profundidad en bits): {bits} bits\")"
      ]
    },
    {
      "cell_type": "code",
      "execution_count": null,
      "metadata": {
        "id": "pxNelrsqGnOT",
        "outputId": "a2cda6a7-23a0-4743-cbf5-76535080df30"
      },
      "outputs": [],
      "source": [
        "import os\n",
        "import pandas as pd\n",
        "\n",
        "# Ruta de la carpeta que contiene los audios y subcarpetas\n",
        "ruta_carpeta = 'C:/Users/cadur/Downloads/Urbansonic/0_Mels_Gen/DATA/ESC-50-master/audio/'\n",
        "\n",
        "# Listas para almacenar nombres de audios, etiquetas y rutas\n",
        "nombres_audios = []\n",
        "etiquetas = []\n",
        "rutas_audios = []\n",
        "\n",
        "# Recorrer la carpeta y sus subcarpetas\n",
        "for etiqueta in os.listdir(ruta_carpeta):\n",
        "    carpeta_etiqueta = os.path.join(ruta_carpeta, etiqueta)\n",
        "\n",
        "    # Verificar si es una subcarpeta\n",
        "    if os.path.isdir(carpeta_etiqueta):\n",
        "        for audio in os.listdir(carpeta_etiqueta):\n",
        "            if audio.endswith('.wav'):  # Ajustar las extensiones según tus archivos\n",
        "                ruta_audio = os.path.join(carpeta_etiqueta, audio)\n",
        "                nombres_audios.append(audio)\n",
        "                etiquetas.append(etiqueta)\n",
        "                rutas_audios.append(ruta_audio)\n",
        "\n",
        "# Crear un Marco de Datos con los datos recopilados\n",
        "data = {'name': nombres_audios, 'class': etiquetas, 'audio_path': rutas_audios}\n",
        "df = pd.DataFrame(data)\n",
        "\n",
        "# Guardar el DataFrame en un archivo CSV\n",
        "ruta_csv = 'C:/Users/cadur/Downloads/Urbansonic/0_Mels_Gen/DATA/ESC-50-master/csv/ESC_AllMels.csv'\n",
        "df.to_csv(ruta_csv, index=False)\n",
        "\n",
        "print(f\"Archivo CSV generado y guardado en {ruta_csv}\")"
      ]
    },
    {
      "cell_type": "markdown",
      "metadata": {
        "id": "dI9D5eV1P5f5"
      },
      "source": [
        "# Mels 2 segundos"
      ]
    },
    {
      "cell_type": "code",
      "execution_count": null,
      "metadata": {
        "id": "hbV2ewR4P5gA"
      },
      "outputs": [],
      "source": [
        "import os\n",
        "import matplotlib\n",
        "matplotlib.use('Agg') # No pictures displayed\n",
        "import pylab\n",
        "import librosa\n",
        "import librosa.display\n",
        "import numpy as np\n",
        "import matplotlib.pyplot as plt\n",
        "import IPython.display as ipd\n",
        "import joblib\n",
        "import math\n",
        "import pandas as pd\n",
        "import soundfile as sf\n",
        "import wave"
      ]
    },
    {
      "cell_type": "code",
      "execution_count": null,
      "metadata": {
        "id": "tYwRyauEP5gE"
      },
      "outputs": [],
      "source": [
        "# melspec dir from previous script\n",
        "wav_dir = 'E:/VNE/Audios/Audios_VNE_2s/VNE_2seg'\n",
        "# where the melspecs will be generated. Pathway needs to exist, next chunk will create class folders IN the folder\n",
        "mel_spec_dir = \"E:/VNE/Mels_Completo/Mels_New\""
      ]
    },
    {
      "cell_type": "code",
      "execution_count": null,
      "metadata": {
        "id": "SMTpQbaXNy0i"
      },
      "outputs": [],
      "source": [
        "# Read CSV file\n",
        "csv_path = \"E:/VNE/CSV/VNE_AllMels.csv\"\n",
        "csv_data = pd.read_csv(csv_path)"
      ]
    },
    {
      "cell_type": "code",
      "execution_count": null,
      "metadata": {
        "id": "Azx1LjIuGnOV",
        "outputId": "a9fdd4c6-ced6-4785-95ca-d69a381e9d46"
      },
      "outputs": [],
      "source": [
        "# Extracting unique classes from the CSV\n",
        "cutoff_class_name = csv_data['class'].unique()\n",
        "\n",
        "# build a mel spec directory for each class\n",
        "for i in range(len(cutoff_class_name)):\n",
        "    class_dir = os.path.join(mel_spec_dir, cutoff_class_name[i])\n",
        "    if os.path.exists(class_dir):\n",
        "        print(cutoff_class_name[i], \"directory already exists. Skipping...\")\n",
        "    else:\n",
        "        os.mkdir(class_dir)\n",
        "\n",
        "print(\"Created melspec dirs:\")\n",
        "print(os.listdir(mel_spec_dir))\n",
        "print(len(os.listdir(mel_spec_dir)))"
      ]
    },
    {
      "cell_type": "code",
      "execution_count": null,
      "metadata": {
        "colab": {
          "base_uri": "https://localhost:8080/"
        },
        "id": "KKXEyZRmKKwf",
        "outputId": "2f60a812-a056-45cd-a244-abc5a3e09761"
      },
      "outputs": [],
      "source": [
        "SR = 22050  # Sampling frequency\n",
        "FEATURE = 'mel'  # feature representation\n",
        "\n",
        "FMIN = 0  # 250 # 1000\n",
        "en = 0\n",
        "\n",
        "roi_len = 5  # segmentacion de 5 segundos\n",
        "\n",
        "n_sam = int(22050 * roi_len)\n",
        "print(wav_dir)"
      ]
    },
    {
      "cell_type": "code",
      "execution_count": null,
      "metadata": {
        "colab": {
          "base_uri": "https://localhost:8080/"
        },
        "id": "-t_Zk7Yh1_mK",
        "outputId": "7b6dd222-7887-4b1d-f525-0c3e3c1b5054"
      },
      "outputs": [],
      "source": [
        "# generate mel specs for each audio file listed in the CSV\n",
        "for index, row in csv_data.iterrows():\n",
        "    wav_nm = row['name']\n",
        "    class_label = row['class']\n",
        "    audio_path = row['audio_path']\n",
        "\n",
        "    print(wav_nm)\n",
        "    print('Class:', class_label)\n",
        "\n",
        "    # Cargar el archivo de audio en formato WAVEX\n",
        "    audio_data, sample_rate = sf.read(audio_path)\n",
        "    print(sample_rate)\n",
        "\n",
        "    # Modificar el formato del archivo a WAV en memoria\n",
        "    sf.write(audio_path, audio_data, sample_rate, format='WAV')\n",
        "\n",
        "    # Ruta del archivo de audio .wav\n",
        "    audio_con = audio_path\n",
        "\n",
        "     # Cargar el archivo de audio y convertir a punto flotante\n",
        "    with wave.open(audio_con) as audio:\n",
        "        sample_rate = audio.getframerate()\n",
        "        audio_data = np.frombuffer(audio.readframes(-1), dtype='int16')\n",
        "\n",
        "\n",
        "    fig = plt.figure(1, frameon=False)\n",
        "    fig.set_size_inches(6, 6)\n",
        "    ax = plt.Axes(fig, [0., 0., 1., 1.])\n",
        "    ax.set_axis_off()\n",
        "    fig.add_axes(ax)\n",
        "\n",
        "    # Calcular el espectrograma\n",
        "    espectrograma = librosa.feature.melspectrogram(y=audio_data.astype(np.float32), sr=sample_rate)\n",
        "\n",
        "    # y, sr = librosa.load(audio_path, sr=48000)\n",
        "    n_fft = 2048\n",
        "    hop_length = 32\n",
        "    n_mels = 128\n",
        "    fmin = 0\n",
        "    fmax = 11025\n",
        "\n",
        "    S = librosa.feature.melspectrogram(y=audio_data.astype(np.float16), sr=sample_rate, n_fft=n_fft, hop_length=hop_length, n_mels=n_mels, fmin = fmin, fmax = fmax)\n",
        "\n",
        "    librosa.display.specshow(librosa.power_to_db(S ** 1, ref=np.max), fmin=0, y_axis='linear')  # , cmap = 'gray')\n",
        "\n",
        "    class_subdir = os.path.join(mel_spec_dir, class_label)\n",
        "    directory = os.path.join(class_subdir, wav_nm.split('.')[0] + '.png')  # 'test.png'\n",
        "    fig.savefig(directory)\n",
        "    fig.clear()\n",
        "    ax.cla()\n",
        "    plt.clf()\n",
        "    plt.close('all')\n",
        "\n",
        "    print('Mel spectrogram saved:', directory)\n",
        "    print('-' * 70)"
      ]
    }
  ],
  "metadata": {
    "colab": {
      "provenance": []
    },
    "kernelspec": {
      "display_name": "Python 3",
      "language": "python",
      "name": "python3"
    },
    "language_info": {
      "codemirror_mode": {
        "name": "ipython",
        "version": 3
      },
      "file_extension": ".py",
      "mimetype": "text/x-python",
      "name": "python",
      "nbconvert_exporter": "python",
      "pygments_lexer": "ipython3",
      "version": "3.11.9"
    }
  },
  "nbformat": 4,
  "nbformat_minor": 0
}
