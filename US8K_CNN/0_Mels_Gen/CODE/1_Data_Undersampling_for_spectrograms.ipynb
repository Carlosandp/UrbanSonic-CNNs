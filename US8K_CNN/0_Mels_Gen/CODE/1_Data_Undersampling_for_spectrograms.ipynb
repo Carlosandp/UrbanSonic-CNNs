{
 "cells": [
  {
   "cell_type": "code",
   "execution_count": 1,
   "metadata": {},
   "outputs": [
    {
     "name": "stdout",
     "output_type": "stream",
     "text": [
      "Clase 'BI': 1296 archivos copiados.\n",
      "Clase 'EM': 800 archivos copiados.\n",
      "Clase 'S': 1200 archivos copiados.\n",
      "Clase 'TM': 1473 archivos copiados.\n",
      "Clase 'VM': 1426 archivos copiados.\n",
      "Submuestreo completado.\n"
     ]
    }
   ],
   "source": [
    "import os\n",
    "import random\n",
    "import shutil\n",
    "\n",
    "# Rutas de origen y destino\n",
    "ruta_origen = r\"C:\\Users\\cadur\\Downloads\\Urbansonic\\Urbansound8k\\0_Mels_Gen\\DATA\\Urbansound8k__Mel\"\n",
    "ruta_destino = r\"C:\\Users\\cadur\\Downloads\\Urbansonic\\Urbansound8k\\0_Mels_Gen\\DATA\\Submuestreo\"\n",
    "\n",
    "# Definir la cantidad deseada de archivos por clase\n",
    "cantidades_por_clase = {\n",
    "    \"BI\": 1296,\n",
    "    \"EM\": 800,\n",
    "    \"S\": 1200,\n",
    "    \"TM\": 1473,\n",
    "    \"VM\": 1426\n",
    "}\n",
    "\n",
    "# Procesar cada clase\n",
    "for clase, cantidad_a_seleccionar in cantidades_por_clase.items():\n",
    "    ruta_clase = os.path.join(ruta_origen, clase)\n",
    "    \n",
    "    if not os.path.exists(ruta_clase):\n",
    "        print(f\"Advertencia: La clase '{clase}' no existe en la ruta de origen.\")\n",
    "        continue\n",
    "    \n",
    "    archivos = [f for f in os.listdir(ruta_clase) if os.path.isfile(os.path.join(ruta_clase, f))]\n",
    "    \n",
    "    if len(archivos) < cantidad_a_seleccionar:\n",
    "        print(f\"Advertencia: La clase '{clase}' tiene solo {len(archivos)} archivos disponibles y se requieren {cantidad_a_seleccionar}.\")\n",
    "        cantidad_a_seleccionar = len(archivos)  # Ajustar al máximo disponible\n",
    "    \n",
    "    # Seleccionar aleatoriamente la cantidad requerida de archivos\n",
    "    seleccionados = random.sample(archivos, cantidad_a_seleccionar)\n",
    "    \n",
    "    # Crear la carpeta de destino para esta clase\n",
    "    ruta_destino_clase = os.path.join(ruta_destino, clase)\n",
    "    os.makedirs(ruta_destino_clase, exist_ok=True)\n",
    "    \n",
    "    # Copiar los archivos seleccionados\n",
    "    for archivo in seleccionados:\n",
    "        origen = os.path.join(ruta_clase, archivo)\n",
    "        destino = os.path.join(ruta_destino_clase, archivo)\n",
    "        shutil.copy2(origen, destino)\n",
    "    \n",
    "    print(f\"Clase '{clase}': {cantidad_a_seleccionar} archivos copiados.\")\n",
    "\n",
    "print(\"Submuestreo completado.\")"
   ]
  },
  {
   "cell_type": "markdown",
   "metadata": {},
   "source": [
    "# Submuestreo equilibrado "
   ]
  },
  {
   "cell_type": "code",
   "execution_count": 1,
   "metadata": {},
   "outputs": [
    {
     "name": "stdout",
     "output_type": "stream",
     "text": [
      "Número de clases: 5. Cada clase tendrá al menos 1060 archivos, con 0 clases recibiendo 1 archivo adicional.\n",
      "Clase 'BI': 1060 archivos copiados.\n",
      "Clase 'EM': 1060 archivos copiados.\n",
      "Clase 'S': 1060 archivos copiados.\n",
      "Clase 'TM': 1060 archivos copiados.\n",
      "Clase 'VM': 1060 archivos copiados.\n",
      "Submuestreo completado. Total de archivos copiados: 5300\n"
     ]
    }
   ],
   "source": [
    "import os\n",
    "import random\n",
    "import shutil\n",
    "\n",
    "# Rutas de origen y destino\n",
    "ruta_origen = r\"C:\\Users\\cadur\\Downloads\\Urbansonic\\Urbansound8k\\0_Mels_Gen\\DATA\\Urbansound8k__Mel\"   # Carpeta que contiene subcarpetas (clases)\n",
    "ruta_destino = r\"C:\\Users\\cadur\\Downloads\\Urbansonic\\Urbansound8k\\0_Mels_Gen\\DATA\\Submuestreo\"   # Carpeta donde se copiarán los archivos submuestreados\n",
    "\n",
    "# Total deseado de archivos entre todas las clases\n",
    "total_deseado = 5300\n",
    "\n",
    "# Listar las subcarpetas (clases) de la ruta de origen\n",
    "clases = [d for d in os.listdir(ruta_origen) if os.path.isdir(os.path.join(ruta_origen, d))]\n",
    "num_clases = len(clases)\n",
    "\n",
    "if num_clases == 0:\n",
    "    raise ValueError(\"No se encontraron subcarpetas (clases) en la ruta de origen.\")\n",
    "\n",
    "# Calcular cantidad base de archivos por clase y el resto para distribuir\n",
    "base = total_deseado // num_clases\n",
    "resto = total_deseado % num_clases\n",
    "\n",
    "print(f\"Número de clases: {num_clases}. Cada clase tendrá al menos {base} archivos, con {resto} clases recibiendo 1 archivo adicional.\")\n",
    "\n",
    "# Ordenamos las clases para asignar de forma determinista el extra a las primeras\n",
    "clases = sorted(clases)\n",
    "\n",
    "# Para cada clase, se selecciona la cantidad correspondiente de archivos\n",
    "for idx, clase in enumerate(clases):\n",
    "    # A cada clase se le asigna base + 1 si su posición es menor al resto, o base en otro caso\n",
    "    cantidad_a_seleccionar = base + 1 if idx < resto else base\n",
    "\n",
    "    ruta_clase = os.path.join(ruta_origen, clase)\n",
    "    archivos = [f for f in os.listdir(ruta_clase) if os.path.isfile(os.path.join(ruta_clase, f))]\n",
    "    \n",
    "    if len(archivos) < cantidad_a_seleccionar:\n",
    "        raise ValueError(f\"La clase '{clase}' tiene solo {len(archivos)} archivos, pero se requieren {cantidad_a_seleccionar} para balancear.\")\n",
    "    \n",
    "    # Seleccionar aleatoriamente la cantidad requerida de archivos\n",
    "    seleccionados = random.sample(archivos, cantidad_a_seleccionar)\n",
    "    \n",
    "    # Crear la carpeta de destino para esta clase\n",
    "    ruta_destino_clase = os.path.join(ruta_destino, clase)\n",
    "    os.makedirs(ruta_destino_clase, exist_ok=True)\n",
    "    \n",
    "    # Copiar los archivos seleccionados\n",
    "    for archivo in seleccionados:\n",
    "        origen = os.path.join(ruta_clase, archivo)\n",
    "        destino = os.path.join(ruta_destino_clase, archivo)\n",
    "        shutil.copy2(origen, destino)\n",
    "    \n",
    "    print(f\"Clase '{clase}': {cantidad_a_seleccionar} archivos copiados.\")\n",
    "\n",
    "print(\"Submuestreo completado. Total de archivos copiados:\", total_deseado)"
   ]
  }
 ],
 "metadata": {
  "kernelspec": {
   "display_name": "Python 3",
   "language": "python",
   "name": "python3"
  },
  "language_info": {
   "codemirror_mode": {
    "name": "ipython",
    "version": 3
   },
   "file_extension": ".py",
   "mimetype": "text/x-python",
   "name": "python",
   "nbconvert_exporter": "python",
   "pygments_lexer": "ipython3",
   "version": "3.9.7"
  }
 },
 "nbformat": 4,
 "nbformat_minor": 2
}
