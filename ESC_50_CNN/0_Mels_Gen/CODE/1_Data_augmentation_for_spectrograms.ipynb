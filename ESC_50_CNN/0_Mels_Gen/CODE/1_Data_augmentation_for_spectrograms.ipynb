{
 "cells": [
  {
   "cell_type": "markdown",
   "metadata": {},
   "source": [
    "# 📚 Libraries"
   ]
  },
  {
   "cell_type": "code",
   "execution_count": null,
   "metadata": {},
   "outputs": [],
   "source": [
    "import os\n",
    "import random\n",
    "import shutil\n",
    "import cv2\n",
    "import numpy as np\n",
    "import matplotlib.pyplot as plt\n",
    "from scipy.ndimage import gaussian_filter, map_coordinates"
   ]
  },
  {
   "cell_type": "markdown",
   "metadata": {},
   "source": [
    "# 🔁 Classic Image Augmentation Functions"
   ]
  },
  {
   "cell_type": "code",
   "execution_count": null,
   "metadata": {},
   "outputs": [],
   "source": [
    "def apply_rotation(img):\n",
    "    \"\"\"Apply random rotation to image.\"\"\"\n",
    "    rows, cols = img.shape[:2]\n",
    "    angle = random.uniform(-30, 30)\n",
    "    M = cv2.getRotationMatrix2D((cols/2, rows/2), angle, 1)\n",
    "    return cv2.warpAffine(img, M, (cols, rows), borderMode=cv2.BORDER_REFLECT)\n",
    "\n",
    "def apply_zoom(img):\n",
    "    \"\"\"Apply random zoom in/out to image.\"\"\"\n",
    "    rows, cols = img.shape[:2]\n",
    "    zoom_factor = random.uniform(0.8, 1.2)\n",
    "    resized = cv2.resize(img, None, fx=zoom_factor, fy=zoom_factor)\n",
    "    r_rows, r_cols = resized.shape[:2]\n",
    "\n",
    "    if r_rows > rows or r_cols > cols:\n",
    "        start_row = (r_rows - rows) // 2\n",
    "        start_col = (r_cols - cols) // 2\n",
    "        return resized[start_row:start_row+rows, start_col:start_col+cols]\n",
    "    else:\n",
    "        pad_row = (rows - r_rows) // 2\n",
    "        pad_col = (cols - r_cols) // 2\n",
    "        return cv2.copyMakeBorder(resized, pad_row, rows - r_rows - pad_row,\n",
    "                                  pad_col, cols - r_cols - pad_col,\n",
    "                                  borderType=cv2.BORDER_REFLECT)\n",
    "\n",
    "def apply_translation(img):\n",
    "    \"\"\"Apply random translation to image.\"\"\"\n",
    "    rows, cols = img.shape[:2]\n",
    "    dx = random.randint(-int(0.1 * cols), int(0.1 * cols))\n",
    "    dy = random.randint(-int(0.1 * rows), int(0.1 * rows))\n",
    "    M = np.float32([[1, 0, dx], [0, 1, dy]])\n",
    "    return cv2.warpAffine(img, M, (cols, rows), borderMode=cv2.BORDER_REFLECT)\n",
    "\n",
    "def apply_flip(img):\n",
    "    \"\"\"Apply horizontal flip.\"\"\"\n",
    "    return cv2.flip(img, 1)"
   ]
  },
  {
   "cell_type": "markdown",
   "metadata": {},
   "source": [
    "# 🔊 Spectrogram-Specific Augmentation Functions"
   ]
  },
  {
   "cell_type": "code",
   "execution_count": null,
   "metadata": {},
   "outputs": [],
   "source": [
    "def apply_spectrogram_random_shifts(img):\n",
    "    \"\"\"Random pitch and time shift.\"\"\"\n",
    "    max_shift = img.shape[1] // 10\n",
    "    dx = random.randint(-max_shift, max_shift)\n",
    "    dy = random.randint(-max_shift, max_shift)\n",
    "    M = np.float32([[1, 0, dx], [0, 1, dy]])\n",
    "    return cv2.warpAffine(img, M, (img.shape[1], img.shape[0]), borderMode=cv2.BORDER_REFLECT)\n",
    "\n",
    "def apply_vtln(img):\n",
    "    \"\"\"Simulate Vocal Tract Length Normalization (VTLN) by stretching vertically.\"\"\"\n",
    "    scale = random.uniform(0.9, 1.1)\n",
    "    new_rows = int(img.shape[0] * scale)\n",
    "    vtln_img = cv2.resize(img, (img.shape[1], new_rows), interpolation=cv2.INTER_LINEAR)\n",
    "    return cv2.resize(vtln_img, (img.shape[1], img.shape[0]), interpolation=cv2.INTER_LINEAR)\n",
    "\n",
    "def apply_noise_s(img, noise_percent=0.1, variance=0.1):\n",
    "    \"\"\"Add random noise to a portion of the spectrogram pixels.\"\"\"\n",
    "    img_noisy = img.copy().astype(np.float32)\n",
    "    mask = np.random.rand(*img.shape) < noise_percent\n",
    "    noise = np.random.normal(1.0, variance, img.shape)\n",
    "    img_noisy[mask] *= noise[mask]\n",
    "    return np.clip(img_noisy, 0, 255).astype(np.uint8)"
   ]
  },
  {
   "cell_type": "markdown",
   "metadata": {},
   "source": [
    "# 🧰 List of All Augmentation Functions"
   ]
  },
  {
   "cell_type": "code",
   "execution_count": null,
   "metadata": {},
   "outputs": [],
   "source": [
    "augmentation_functions = [\n",
    "    apply_rotation,\n",
    "    apply_zoom,\n",
    "    apply_translation,\n",
    "    apply_flip,\n",
    "    apply_spectrogram_random_shifts,\n",
    "    apply_vtln,\n",
    "    apply_noise_s\n",
    "]"
   ]
  },
  {
   "cell_type": "markdown",
   "metadata": {},
   "source": [
    "# 🗂️ Parameters and Directory Setup"
   ]
  },
  {
   "cell_type": "code",
   "execution_count": null,
   "metadata": {},
   "outputs": [],
   "source": [
    "source_dir = r\"C:\\Users\\cadur\\Downloads\\Urbansonic\\ESC_50\\0_Mels_Gen\\DATA\\ESC_50_Mel\"\n",
    "output_dir = r\"C:\\Users\\cadur\\Downloads\\Urbansonic\\ESC_50\\0_Mels_Gen\\DATA\\Data_Augmentacion\"\n",
    "\n",
    "# Desired number of images per class\n",
    "target_counts = {\n",
    "    \"BI\": 1296,\n",
    "    \"EM\": 800,\n",
    "    \"S\": 1200,\n",
    "    \"TM\": 1473,\n",
    "    \"VM\": 1426\n",
    "}\n",
    "\n",
    "classes = [d for d in os.listdir(source_dir) if os.path.isdir(os.path.join(source_dir, d))]\n",
    "print(f\"Detected classes: {classes}\")"
   ]
  },
  {
   "cell_type": "markdown",
   "metadata": {},
   "source": [
    "# 🔄 Data Augmentation Pipeline"
   ]
  },
  {
   "cell_type": "code",
   "execution_count": null,
   "metadata": {},
   "outputs": [],
   "source": [
    "for class_name, target_count in target_counts.items():\n",
    "    print(f\"\\nProcessing class '{class_name}'...\")\n",
    "    class_src = os.path.join(source_dir, class_name)\n",
    "    class_dst = os.path.join(output_dir, class_name)\n",
    "    os.makedirs(class_dst, exist_ok=True)\n",
    "\n",
    "    images = [f for f in os.listdir(class_src) if f.lower().endswith(('.png', '.jpg', '.jpeg'))]\n",
    "    images = sorted(images)\n",
    "    count = 0\n",
    "\n",
    "    # Copy original images\n",
    "    for img_file in images:\n",
    "        if count >= target_count:\n",
    "            break\n",
    "        shutil.copy2(os.path.join(class_src, img_file), os.path.join(class_dst, img_file))\n",
    "        count += 1\n",
    "\n",
    "    print(f\"Original images copied: {count}\")\n",
    "\n",
    "    if count >= target_count:\n",
    "        print(f\"Class '{class_name}' already meets the target. No augmentation applied.\")\n",
    "        continue\n",
    "\n",
    "    # Apply augmentations to reach target\n",
    "    aug_index = 0\n",
    "    while count < target_count:\n",
    "        img_filename = random.choice(images)\n",
    "        img_path = os.path.join(class_src, img_filename)\n",
    "        img = cv2.imread(img_path)\n",
    "        if img is None:\n",
    "            print(f\"Error reading image {img_path}. Skipping.\")\n",
    "            continue\n",
    "\n",
    "        func = augmentation_functions[aug_index % len(augmentation_functions)]\n",
    "        img_aug = func(img)\n",
    "\n",
    "        new_filename = f\"aug_{count}_{img_filename}\"\n",
    "        new_filepath = os.path.join(class_dst, new_filename)\n",
    "        ext = os.path.splitext(new_filename)[1].lower()\n",
    "\n",
    "        if ext in ['.jpg', '.jpeg']:\n",
    "            cv2.imwrite(new_filepath, img_aug, [int(cv2.IMWRITE_JPEG_QUALITY), 95])\n",
    "        elif ext == '.png':\n",
    "            cv2.imwrite(new_filepath, img_aug, [int(cv2.IMWRITE_PNG_COMPRESSION), 3])\n",
    "        else:\n",
    "            cv2.imwrite(new_filepath, img_aug)\n",
    "\n",
    "        count += 1\n",
    "        aug_index += 1\n",
    "\n",
    "        if count % 50 == 0:\n",
    "            print(f\"{count} images generated for class '{class_name}'...\")\n",
    "\n",
    "    print(f\"Finished class '{class_name}': {count} total images.\")\n",
    "\n",
    "print(\"\\n✅ Data augmentation process completed.\")"
   ]
  },
  {
   "cell_type": "markdown",
   "metadata": {},
   "source": [
    "# 📊 Class Balance Visualization"
   ]
  },
  {
   "cell_type": "code",
   "execution_count": null,
   "metadata": {},
   "outputs": [],
   "source": [
    "train_dir = output_dir\n",
    "class_names = [folder for folder in os.listdir(train_dir)\n",
    "               if os.path.isdir(os.path.join(train_dir, folder))]\n",
    "\n",
    "counts = []\n",
    "for class_name in class_names:\n",
    "    class_path = os.path.join(train_dir, class_name)\n",
    "    image_count = len([f for f in os.listdir(class_path)\n",
    "                       if os.path.isfile(os.path.join(class_path, f))])\n",
    "    counts.append(image_count)\n",
    "\n",
    "fig, ax = plt.subplots(figsize=(10, 6))\n",
    "colors = plt.cm.tab10(np.linspace(0, 1, len(class_names)))\n",
    "bars = ax.bar(class_names, counts, color=colors)\n",
    "\n",
    "for bar in bars:\n",
    "    height = bar.get_height()\n",
    "    ax.text(bar.get_x() + bar.get_width() / 2, height, f'{int(height)}',\n",
    "            ha='center', va='bottom', fontsize=12)\n",
    "\n",
    "ax.set_xlabel('Classes')\n",
    "ax.set_ylabel('Number of Images')\n",
    "ax.set_title('Class Balance After Augmentation')\n",
    "plt.xticks(rotation=45)\n",
    "plt.tight_layout()\n",
    "plt.show()"
   ]
  }
 ],
 "metadata": {
  "kernelspec": {
   "display_name": "Python 3",
   "language": "python",
   "name": "python3"
  },
  "language_info": {
   "codemirror_mode": {
    "name": "ipython",
    "version": 3
   },
   "file_extension": ".py",
   "mimetype": "text/x-python",
   "name": "python",
   "nbconvert_exporter": "python",
   "pygments_lexer": "ipython3",
   "version": "3.9.7"
  }
 },
 "nbformat": 4,
 "nbformat_minor": 2
}
