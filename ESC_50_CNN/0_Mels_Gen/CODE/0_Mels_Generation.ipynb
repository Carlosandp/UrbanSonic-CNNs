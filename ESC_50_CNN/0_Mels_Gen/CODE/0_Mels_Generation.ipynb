{
  "cells": [
    {
      "cell_type": "markdown",
      "metadata": {},
      "source": [
        "# 📚 Libraries"
      ]
    },
    {
      "cell_type": "code",
      "execution_count": null,
      "metadata": {},
      "outputs": [],
      "source": [
        "# Audio processing and I/O\n",
        "import os\n",
        "import wave\n",
        "import soundfile as sf\n",
        "import librosa\n",
        "import librosa.display\n",
        "\n",
        "# Plotting\n",
        "import matplotlib\n",
        "matplotlib.use('Agg')  # No GUI\n",
        "import matplotlib.pyplot as plt\n",
        "import pylab\n",
        "\n",
        "# Data handling\n",
        "import numpy as np\n",
        "import pandas as pd\n",
        "import joblib\n",
        "import math\n",
        "import IPython.display as ipd"
      ]
    },
    {
      "cell_type": "markdown",
      "metadata": {},
      "source": [
        "# 🔍 Step 1 - Audio Info Extraction"
      ]
    },
    {
      "cell_type": "code",
      "execution_count": null,
      "metadata": {},
      "outputs": [],
      "source": [
        "def get_audio_info(wav_file):\n",
        "    info = sf.info(wav_file)\n",
        "    sample_rate = info.samplerate\n",
        "    subtype = info.subtype\n",
        "\n",
        "    # Extract bit depth if PCM format\n",
        "    if 'PCM' in subtype:\n",
        "        try:\n",
        "            bit_depth = int(subtype.split('_')[1])\n",
        "        except (IndexError, ValueError):\n",
        "            bit_depth = \"Unavailable\"\n",
        "    else:\n",
        "        bit_depth = \"Unavailable\"\n",
        "\n",
        "    return sample_rate, bit_depth\n",
        "\n",
        "\n",
        "if __name__ == \"__main__\":\n",
        "    wav_file_path = \"C:/Users/cadur/Downloads/Urbansonic/0_Mels_Gen/DATA/ESC-50-master/audio/1-137-A-32.wav\"\n",
        "    sample_rate, bit_depth = get_audio_info(wav_file_path)\n",
        "    print(f\"Sample rate: {sample_rate} Hz\")\n",
        "    print(f\"Bit depth: {bit_depth} bits\")"
      ]
    },
    {
      "cell_type": "markdown",
      "metadata": {},
      "source": [
        "# 🎯 Step 2 - Define Paths and Read CSV"
      ]
    },
    {
      "cell_type": "code",
      "execution_count": null,
      "metadata": {},
      "outputs": [],
      "source": [
        "# Directories\n",
        "wav_dir = r'C:\\Users\\cadur\\Downloads\\Urbansonic\\Datos\\DATA\\ESC-50-master\\Esc_50_Seg_Wav'\n",
        "mel_spec_dir = r\"C:\\Users\\cadur\\Downloads\\Urbansonic\\Datos\\DATA\\ESC-50-master\\ESC_50_Mel\"\n",
        "csv_path = r\"C:\\Users\\cadur\\Downloads\\Urbansonic\\Datos\\DATA\\ESC-50-master\\csv\\ESC-50.csv\"\n",
        "\n",
        "# Load dataset metadata\n",
        "csv_data = pd.read_csv(csv_path)\n",
        "unique_classes = csv_data['class'].unique()"
      ]
    },
    {
      "cell_type": "markdown",
      "metadata": {},
      "source": [
        "# 📁 Step 3 - Create Class Subdirectories"
      ]
    },
    {
      "cell_type": "code",
      "execution_count": null,
      "metadata": {},
      "outputs": [],
      "source": [
        "# Create a directory for each class inside mel_spec_dir\n",
        "for class_name in unique_classes:\n",
        "    class_path = os.path.join(mel_spec_dir, class_name)\n",
        "    if os.path.exists(class_path):\n",
        "        print(f\"{class_name} directory already exists. Skipping...\")\n",
        "    else:\n",
        "        os.mkdir(class_path)\n",
        "\n",
        "print(\"Created mel spectrogram directories:\")\n",
        "print(os.listdir(mel_spec_dir))\n",
        "print(f\"Total: {len(os.listdir(mel_spec_dir))} classes\")"
      ]
    },
    {
      "cell_type": "markdown",
      "metadata": {},
      "source": [
        "# ⚙️ Step 4 - Spectrogram Configuration"
      ]
    },
    {
      "cell_type": "code",
      "execution_count": null,
      "metadata": {},
      "outputs": [],
      "source": [
        "# Parameters\n",
        "SR = 22050  # Target sampling rate\n",
        "FEATURE = 'mel'\n",
        "FMIN = 0\n",
        "roi_len = 5  # Audio segment length in seconds\n",
        "n_samples = int(SR * roi_len)\n",
        "\n",
        "# Mel spectrogram parameters\n",
        "n_fft = 2048\n",
        "hop_length = 32\n",
        "n_mels = 128\n",
        "fmin = 0\n",
        "fmax = 11025"
      ]
    },
    {
      "cell_type": "markdown",
      "metadata": {},
      "source": [
        "# 🎼 Step 5 - Generate Mel Spectrograms"
      ]
    },
    {
      "cell_type": "code",
      "execution_count": null,
      "metadata": {},
      "outputs": [],
      "source": [
        "for index, row in csv_data.iterrows():\n",
        "    file_name = row['name']\n",
        "    class_label = row['class']\n",
        "    audio_path = row['audio_path']\n",
        "\n",
        "    print(f\"Processing: {file_name} | Class: {class_label}\")\n",
        "\n",
        "    # Load audio using soundfile\n",
        "    audio_data, sample_rate = sf.read(audio_path)\n",
        "\n",
        "    # Save the file as WAV in memory to ensure consistency\n",
        "    sf.write(audio_path, audio_data, sample_rate, format='WAV')\n",
        "\n",
        "    # Read audio as int16 for waveform plotting\n",
        "    with wave.open(audio_path) as audio:\n",
        "        sample_rate = audio.getframerate()\n",
        "        audio_data = np.frombuffer(audio.readframes(-1), dtype='int16')\n",
        "\n",
        "    # Plot setup\n",
        "    fig = plt.figure(1, frameon=False)\n",
        "    fig.set_size_inches(6, 6)\n",
        "    ax = plt.Axes(fig, [0., 0., 1., 1.])\n",
        "    ax.set_axis_off()\n",
        "    fig.add_axes(ax)\n",
        "\n",
        "    # Generate Mel spectrogram\n",
        "    S = librosa.feature.melspectrogram(\n",
        "        y=audio_data.astype(np.float32), sr=sample_rate,\n",
        "        n_fft=n_fft, hop_length=hop_length,\n",
        "        n_mels=n_mels, fmin=fmin, fmax=fmax\n",
        "    )\n",
        "\n",
        "    # Display and save the spectrogram as PNG\n",
        "    librosa.display.specshow(librosa.power_to_db(S, ref=np.max), fmin=fmin, y_axis='linear')\n",
        "    output_dir = os.path.join(mel_spec_dir, class_label, file_name.split('.')[0] + '.png')\n",
        "    fig.savefig(output_dir)\n",
        "    fig.clear()\n",
        "    ax.cla()\n",
        "    plt.clf()\n",
        "    plt.close('all')\n",
        "\n",
        "    print(f\"Saved mel spectrogram: {output_dir}\")\n",
        "    print('-' * 70)"
      ]
    }
  ],
  "metadata": {
    "colab": {
      "provenance": []
    },
    "kernelspec": {
      "display_name": "Python 3",
      "language": "python",
      "name": "python3"
    },
    "language_info": {
      "codemirror_mode": {
        "name": "ipython",
        "version": 3
      },
      "file_extension": ".py",
      "mimetype": "text/x-python",
      "name": "python",
      "nbconvert_exporter": "python",
      "pygments_lexer": "ipython3",
      "version": "3.9.7"
    }
  },
  "nbformat": 4,
  "nbformat_minor": 0
}
