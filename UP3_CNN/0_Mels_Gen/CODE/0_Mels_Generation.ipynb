{
  "cells": [
    {
      "cell_type": "markdown",
      "metadata": {},
      "source": [
        "# UP3-CNN"
      ]
    },
    {
      "cell_type": "markdown",
      "metadata": {},
      "source": [
        "# 📚 Libraries"
      ]
    },
    {
      "cell_type": "code",
      "execution_count": null,
      "metadata": {},
      "outputs": [],
      "source": [
        "import os\n",
        "import math\n",
        "import wave\n",
        "import joblib\n",
        "import librosa\n",
        "import pylab\n",
        "import pandas as pd\n",
        "import numpy as np\n",
        "import soundfile as sf\n",
        "import matplotlib\n",
        "matplotlib.use('Agg')  # Avoid GUI backend\n",
        "import librosa.display\n",
        "import matplotlib.pyplot as plt"
      ]
    },
    {
      "cell_type": "markdown",
      "metadata": {},
      "source": [
        "# 📥 FUNCIONES UTILITARIAS"
      ]
    },
    {
      "cell_type": "code",
      "execution_count": null,
      "metadata": {},
      "outputs": [],
      "source": [
        "# 📄 Obtener información de un archivo de audio\n",
        "def obtener_info_audio(archivo_wav):\n",
        "    info = sf.info(archivo_wav)\n",
        "    tasa_muestreo = info.samplerate\n",
        "    subtipo = info.subtype\n",
        "\n",
        "    if 'PCM' in subtipo:\n",
        "        try:\n",
        "            bits = int(subtipo.split('_')[1])\n",
        "        except (IndexError, ValueError):\n",
        "            bits = \"No disponible\"\n",
        "    else:\n",
        "        bits = \"No disponible\"\n",
        "\n",
        "    return tasa_muestreo, bits"
      ]
    },
    {
      "cell_type": "markdown",
      "metadata": {},
      "source": [
        "# 🖼️ Generar espectrograma Mel"
      ]
    },
    {
      "cell_type": "code",
      "execution_count": null,
      "metadata": {},
      "outputs": [],
      "source": [
        "def generar_mel_spectrogram(audio_path, output_path, sample_rate=22050):\n",
        "    try:\n",
        "        # Cargar y escribir en formato WAV por compatibilidad\n",
        "        audio_data, sr = sf.read(audio_path)\n",
        "        sf.write(audio_path, audio_data, sr, format='WAV')\n",
        "\n",
        "        # Leer con wave y convertir a array\n",
        "        with wave.open(audio_path) as audio:\n",
        "            sr = audio.getframerate()\n",
        "            audio_data = np.frombuffer(audio.readframes(-1), dtype='int16')\n",
        "\n",
        "        # Parámetros para el espectrograma\n",
        "        n_fft = 2048\n",
        "        hop_length = 32\n",
        "        n_mels = 128\n",
        "        fmin = 0\n",
        "        fmax = sr // 2\n",
        "\n",
        "        S = librosa.feature.melspectrogram(\n",
        "            y=audio_data.astype(np.float32),\n",
        "            sr=sr,\n",
        "            n_fft=n_fft,\n",
        "            hop_length=hop_length,\n",
        "            n_mels=n_mels,\n",
        "            fmin=fmin,\n",
        "            fmax=fmax\n",
        "        )\n",
        "\n",
        "        # Crear figura sin bordes\n",
        "        fig = plt.figure(1, frameon=False)\n",
        "        fig.set_size_inches(6, 6)\n",
        "        ax = plt.Axes(fig, [0., 0., 1., 1.])\n",
        "        ax.set_axis_off()\n",
        "        fig.add_axes(ax)\n",
        "\n",
        "        librosa.display.specshow(librosa.power_to_db(S, ref=np.max), fmin=fmin, y_axis='linear')\n",
        "        fig.savefig(output_path)\n",
        "        plt.close(fig)\n",
        "\n",
        "        print(f\"✅ Mel spectrogram saved: {output_path}\")\n",
        "    except Exception as e:\n",
        "        print(f\"❌ Error processing {audio_path}: {e}\")"
      ]
    },
    {
      "cell_type": "markdown",
      "metadata": {},
      "source": [
        "# 📁 CREACIÓN DE DIRECTORIOS DE CLASES"
      ]
    },
    {
      "cell_type": "code",
      "execution_count": null,
      "metadata": {},
      "outputs": [],
      "source": [
        "def crear_directorios_mels(csv_path, output_dir):\n",
        "    csv_data = pd.read_csv(csv_path)\n",
        "    clases = csv_data['class'].unique()\n",
        "    for clase in clases:\n",
        "        ruta_clase = os.path.join(output_dir, clase)\n",
        "        os.makedirs(ruta_clase, exist_ok=True)\n",
        "    return csv_data"
      ]
    },
    {
      "cell_type": "markdown",
      "metadata": {},
      "source": [
        "# 🧠 MAIN SCRIPT"
      ]
    },
    {
      "cell_type": "code",
      "execution_count": null,
      "metadata": {},
      "outputs": [],
      "source": [
        "if __name__ == \"__main__\":\n",
        "    # 🔍 Verificación de información de audio\n",
        "    ejemplos = [\n",
        "        \"C:/Users/cadur/Downloads/Urbansonic/0_Mels_Gen/DATA/Urbanphony/PPN/Punto 01 P1.wav\",  # PPN\n",
        "        \"C:/Users/cadur/Downloads/Urbansonic/0_Mels_Gen/DATA/Urbanphony/SQC/JAN_1_P1.wav\",     # SQC\n",
        "        \"C:/Users/cadur/Downloads/Urbansonic/0_Mels_Gen/DATA/Urbanphony/VNE/1 R.wav\"          # VNE\n",
        "    ]\n",
        "\n",
        "    print(\"🔎 Información de audios:\")\n",
        "    for archivo in ejemplos:\n",
        "        tasa, bits = obtener_info_audio(archivo)\n",
        "        print(f\"{archivo}\\n  📈 Tasa: {tasa} Hz, 🧊 Bits: {bits}\")\n",
        "\n",
        "    # 📍 Paths\n",
        "    wav_dir = 'E:/VNE/Audios/Audios_VNE_2s/VNE_2seg'\n",
        "    mel_spec_dir = \"E:/VNE/Mels_Completo/Mels_New\"\n",
        "    csv_path = \"E:/VNE/CSV/VNE_AllMels.csv\"\n",
        "\n",
        "    # 🗂️ Crear carpetas por clase y cargar CSV\n",
        "    csv_data = crear_directorios_mels(csv_path, mel_spec_dir)\n",
        "\n",
        "    # 🔄 Generación de espectrogramas Mel\n",
        "    print(\"🎛️ Generando espectrogramas Mel...\")\n",
        "    for _, row in csv_data.iterrows():\n",
        "        nombre = row['name']\n",
        "        clase = row['class']\n",
        "        ruta_audio = row['audio_path']\n",
        "        salida = os.path.join(mel_spec_dir, clase, nombre.split('.')[0] + '.png')\n",
        "        print(f\"🎵 {nombre} | Clase: {clase}\")\n",
        "        generar_mel_spectrogram(ruta_audio, salida)\n",
        "        print(\"—\" * 70)"
      ]
    }
  ],
  "metadata": {
    "colab": {
      "provenance": []
    },
    "kernelspec": {
      "display_name": "Python 3",
      "language": "python",
      "name": "python3"
    },
    "language_info": {
      "codemirror_mode": {
        "name": "ipython",
        "version": 3
      },
      "file_extension": ".py",
      "mimetype": "text/x-python",
      "name": "python",
      "nbconvert_exporter": "python",
      "pygments_lexer": "ipython3",
      "version": "3.11.9"
    }
  },
  "nbformat": 4,
  "nbformat_minor": 0
}
